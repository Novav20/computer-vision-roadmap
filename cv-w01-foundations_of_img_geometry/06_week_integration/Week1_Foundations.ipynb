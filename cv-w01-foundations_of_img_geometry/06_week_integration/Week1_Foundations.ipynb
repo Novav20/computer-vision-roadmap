{
 "cells": [
  {
   "cell_type": "markdown",
   "id": "40eaf210",
   "metadata": {},
   "source": [
    "# Week 1: Geometric Foundations - Integration Demo\n",
    "\n",
    "This notebook demonstrates the end-to-end process of applying geometric corrections to an image, combining concepts learned in Week 1:\n",
    "1.  Loading camera calibration data (intrinsics, distortion, undistortion maps).\n",
    "2.  Loading a sample image (e.g., from an ESP32-CAM).\n",
    "3.  Applying lens undistortion using the calibration data.\n",
    "4.  Defining a region of interest (ROI) in the undistorted image.\n",
    "5.  Calculating and applying a perspective warp (homography) to obtain a rectified, top-down view of the ROI.\n",
    "6.  Visualizing the results at each step."
   ]
  },
  {
   "cell_type": "code",
   "execution_count": 1,
   "id": "5ffa3274",
   "metadata": {},
   "outputs": [],
   "source": [
    "# Import necessary libraries\n",
    "import numpy as np\n",
    "import cv2\n",
    "import matplotlib.pyplot as plt\n",
    "import os"
   ]
  },
  {
   "cell_type": "markdown",
   "id": "8bf3ae53",
   "metadata": {},
   "source": [
    "## 1. Configuration and Setup\n",
    "\n",
    "Define file paths, output directory, and the points for the perspective warp.\n",
    "**Important:** Adjust `UNDISTORTED_SRC_POINTS` based on your specific test image after viewing the undistorted version.\n"
   ]
  },
  {
   "cell_type": "code",
   "execution_count": null,
   "id": "a9d2004a",
   "metadata": {},
   "outputs": [],
   "source": [
    "# --- Configuration ---\n",
    "CALIBRATION_FILE = 'camera_calibration_data.npz'\n",
    "TEST_IMAGE_FILE = 'esp32_test_image.jpg' # Image captured by ESP32-CAM or similar\n",
    "OUTPUT_DIR = 'output_week1_notebook' # Directory to save results from notebook\n",
    "\n",
    "# Create output directory if it doesn't exist\n",
    "os.makedirs(OUTPUT_DIR, exist_ok=True)\n",
    "\n",
    "# --- Define the Warp Transformation ---\n",
    "# Source points in the *undistorted* image (TL, TR, BR, BL order)\n",
    "# *** Adjust these points based on your TEST_IMAGE_FILE after undistortion! ***\n",
    "UNDISTORTED_SRC_POINTS = np.float32([\n",
    "    [150, 100],  # Top-Left corner of ROI in undistorted image\n",
    "    [450, 110],  # Top-Right corner\n",
    "    [500, 350],  # Bottom-Right corner\n",
    "    [100, 340]   # Bottom-Left corner\n",
    "])\n",
    "\n",
    "# Define the desired output rectangle size and shape for the warped region\n",
    "OUTPUT_WIDTH = 300\n",
    "OUTPUT_HEIGHT = 250\n",
    "TARGET_DST_POINTS = np.float32([\n",
    "    [0, 0],                     # Target Top-Left\n",
    "    [OUTPUT_WIDTH - 1, 0],      # Target Top-Right\n",
    "    [OUTPUT_WIDTH - 1, OUTPUT_HEIGHT - 1], # Target Bottom-Right\n",
    "    [0, OUTPUT_HEIGHT - 1]      # Target Bottom-Left\n",
    "])\n",
    "\n",
    "# Function to display images using Matplotlib\n",
    "def display_image(title, img_bgr):\n",
    "    img_rgb = cv2.cvtColor(img_bgr, cv2.COLOR_BGR2RGB)\n",
    "    plt.figure(figsize=(8, 6))\n",
    "    plt.imshow(img_rgb)\n",
    "    plt.title(title)\n",
    "    plt.axis('off')\n",
    "    plt.show()\n",
    "\n",
    "def display_comparison(title1, img1_bgr, title2, img2_bgr):\n",
    "    img1_rgb = cv2.cvtColor(img1_bgr, cv2.COLOR_BGR2RGB)\n",
    "    img2_rgb = cv2.cvtColor(img2_bgr, cv2.COLOR_BGR2RGB)\n",
    "    \n",
    "    plt.figure(figsize=(12, 5))\n",
    "    plt.subplot(1, 2, 1)\n",
    "    plt.imshow(img1_rgb)\n",
    "    plt.title(title1)\n",
    "    plt.axis('off')\n",
    "    \n",
    "    plt.subplot(1, 2, 2)\n",
    "    plt.imshow(img2_rgb)\n",
    "    plt.title(title2)\n",
    "    plt.axis('off')\n",
    "    \n",
    "    plt.tight_layout()\n",
    "    plt.show()\n",
    "    \n",
    "print(\"Configuration set.\")\n"
   ]
  },
  {
   "cell_type": "markdown",
   "id": "59577ccb",
   "metadata": {},
   "source": [
    "## 2. Load Calibration Data\n",
    "\n",
    "Load the pre-computed camera matrix, distortion coefficients, and undistortion maps saved from the calibration process.\n"
   ]
  },
  {
   "cell_type": "code",
   "execution_count": null,
   "id": "9bbfc82a",
   "metadata": {},
   "outputs": [],
   "source": [
    "# --- Load Calibration Data ---\n",
    "try:\n",
    "    with np.load(CALIBRATION_FILE) as data:\n",
    "        mtx = data['mtx']\n",
    "        dist = data['dist']\n",
    "        new_camera_mtx = data['new_camera_mtx']\n",
    "        roi = data['roi']\n",
    "        map1 = data['map1']\n",
    "        map2 = data['map2']\n",
    "        img_size = tuple(data['img_size'])\n",
    "    print(f\"Calibration data loaded successfully from '{CALIBRATION_FILE}'\")\n",
    "    print(\"Camera Matrix (mtx):\\n\", mtx)\n",
    "    print(\"Distortion Coefficients (dist):\\n\", dist)\n",
    "    print(\"Image Size from Calibration:\", img_size)\n",
    "except Exception as e:\n",
    "    print(f\"Error loading calibration data from '{CALIBRATION_FILE}': {e}\")\n",
    "    # Stop execution if calibration data is missing\n",
    "    raise"
   ]
  },
  {
   "cell_type": "markdown",
   "id": "bb01da80",
   "metadata": {},
   "source": [
    "## 3. Load Test Image\n",
    "\n",
    "Load the sample image that we want to apply the corrections to.\n"
   ]
  },
  {
   "cell_type": "code",
   "execution_count": null,
   "id": "a46b397b",
   "metadata": {},
   "outputs": [],
   "source": [
    "# --- Load Test Image ---\n",
    "original_img = cv2.imread(TEST_IMAGE_FILE)\n",
    "\n",
    "if original_img is None:\n",
    "    print(f\"Error: Could not load test image from '{TEST_IMAGE_FILE}'\")\n",
    "    # Stop execution if image is missing\n",
    "    raise FileNotFoundError(f\"Test image not found: {TEST_IMAGE_FILE}\")\n",
    "else:\n",
    "    print(f\"Test image '{TEST_IMAGE_FILE}' loaded successfully.\")\n",
    "    # Verify image size (optional but recommended)\n",
    "    h, w = original_img.shape[:2]\n",
    "    if (w, h) != img_size:\n",
    "        print(f\"Warning: Test image size {(w,h)} differs from calibration image size {img_size}. Resizing...\")\n",
    "        original_img = cv2.resize(original_img, img_size)\n",
    "        h, w = original_img.shape[:2] # Update dimensions\n",
    "        print(f\"Resized test image dimensions: {(w, h)}\")\n",
    "        \n",
    "    # Display the original image\n",
    "    display_image('1. Original Test Image', original_img)\n",
    "    cv2.imwrite(os.path.join(OUTPUT_DIR, '1_original.jpg'), original_img)\n"
   ]
  },
  {
   "cell_type": "markdown",
   "id": "fd067e07",
   "metadata": {},
   "source": [
    "## 4. Apply Lens Undistortion\n",
    "\n",
    "Use the pre-computed `map1` and `map2` with `cv2.remap` to efficiently remove lens distortion from the test image.\n"
   ]
  },
  {
   "cell_type": "code",
   "execution_count": null,
   "id": "21162569",
   "metadata": {},
   "outputs": [],
   "source": [
    "# --- Apply Undistortion ---\n",
    "print(\"Applying lens undistortion using cv2.remap...\")\n",
    "undistorted_img = cv2.remap(original_img, map1, map2, interpolation=cv2.INTER_LINEAR)\n",
    "print(\"Undistortion applied.\")\n",
    "\n",
    "# Optional: Crop using ROI\n",
    "x, y, w_roi, h_roi = roi\n",
    "undistorted_cropped = undistorted_img[y:y+h_roi, x:x+w_roi]\n",
    "\n",
    "# Display comparison\n",
    "display_comparison('1. Original Image', original_img, '2. Undistorted Image', undistorted_img)\n",
    "cv2.imwrite(os.path.join(OUTPUT_DIR, '2_undistorted.jpg'), undistorted_img)\n",
    "cv2.imwrite(os.path.join(OUTPUT_DIR, '3_undistorted_cropped.jpg'), undistorted_cropped) # Save cropped too"
   ]
  },
  {
   "cell_type": "markdown",
   "id": "b75a961e",
   "metadata": {},
   "source": [
    "## 5. Apply Perspective Warp\n",
    "\n",
    "Calculate the homography matrix that maps the `UNDISTORTED_SRC_POINTS` (defined in the undistorted image) to the rectangular `TARGET_DST_POINTS`. Then, apply this transformation to the undistorted image using `cv2.warpPerspective`."
   ]
  },
  {
   "cell_type": "code",
   "execution_count": null,
   "id": "229b85b2",
   "metadata": {},
   "outputs": [],
   "source": [
    "# --- Calculate and Apply Perspective Warp ---\n",
    "print(\"Calculating Homography matrix...\")\n",
    "# Use getPerspectiveTransform as we have exactly 4 points\n",
    "homography_matrix = cv2.getPerspectiveTransform(UNDISTORTED_SRC_POINTS, TARGET_DST_POINTS)\n",
    "# Alternative: findHomography (more robust if points are noisy or > 4)\n",
    "# homography_matrix, status = cv2.findHomography(UNDISTORTED_SRC_POINTS, TARGET_DST_POINTS) \n",
    "\n",
    "if homography_matrix is None:\n",
    "    print(\"Error: Could not compute homography matrix.\")\n",
    "    # Stop execution\n",
    "    raise ValueError(\"Homography computation failed.\")\n",
    "else:\n",
    "    print(\"Homography Matrix:\\n\", homography_matrix)\n",
    "    \n",
    "    print(f\"Applying perspective warp to size ({OUTPUT_WIDTH}, {OUTPUT_HEIGHT})...\")\n",
    "    # Warp the *undistorted* image\n",
    "    final_rectified_img = cv2.warpPerspective(undistorted_img, homography_matrix, (OUTPUT_WIDTH, OUTPUT_HEIGHT))\n",
    "    print(\"Perspective warp applied.\")\n",
    "\n",
    "    # Display comparison\n",
    "    display_comparison('2. Undistorted Image', undistorted_img, '4. Final Rectified Image', final_rectified_img)\n",
    "    cv2.imwrite(os.path.join(OUTPUT_DIR, '4_final_rectified.jpg'), final_rectified_img)"
   ]
  },
  {
   "cell_type": "markdown",
   "id": "62eeb2bc",
   "metadata": {},
   "source": [
    "## 6. Conclusion\n",
    "\n",
    "The process successfully loaded an image, corrected its lens distortion using pre-calculated calibration data, and then applied a perspective warp to obtain a rectified, top-down view of a specified region. This forms the foundation for many computer vision tasks where a consistent viewpoint is required, such as object measurement or recognition on a conveyor belt. The output images are saved in the `output_week1_notebook` directory."
   ]
  }
 ],
 "metadata": {
  "kernelspec": {
   "display_name": ".venv",
   "language": "python",
   "name": "python3"
  },
  "language_info": {
   "codemirror_mode": {
    "name": "ipython",
    "version": 3
   },
   "file_extension": ".py",
   "mimetype": "text/x-python",
   "name": "python",
   "nbconvert_exporter": "python",
   "pygments_lexer": "ipython3",
   "version": "3.11.5"
  }
 },
 "nbformat": 4,
 "nbformat_minor": 5
}
